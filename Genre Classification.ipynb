{
 "cells": [
  {
   "cell_type": "code",
   "execution_count": 2,
   "id": "175357be",
   "metadata": {},
   "outputs": [],
   "source": [
    "import numpy as np\n",
    "import pandas as pd\n",
    "import matplotlib.pyplot as plt\n",
    "import seaborn as sns"
   ]
  },
  {
   "cell_type": "code",
   "execution_count": 3,
   "id": "e6457cde",
   "metadata": {},
   "outputs": [],
   "source": [
    "train=pd.read_csv('Genre Classification Dataset/train_data.txt',sep=':::',names=[\"ID\",\"Titles\",\"Geners\",\"Description\"],engine='python')\n",
    "test=pd.read_csv('Genre Classification Dataset/test_data.txt',sep=':::',names=[\"ID\",\"Titles\",\"Geners\",\"Description\"],engine='python')\n"
   ]
  },
  {
   "cell_type": "code",
   "execution_count": 4,
   "id": "892481cb",
   "metadata": {},
   "outputs": [
    {
     "data": {
      "text/html": [
       "<div>\n",
       "<style scoped>\n",
       "    .dataframe tbody tr th:only-of-type {\n",
       "        vertical-align: middle;\n",
       "    }\n",
       "\n",
       "    .dataframe tbody tr th {\n",
       "        vertical-align: top;\n",
       "    }\n",
       "\n",
       "    .dataframe thead th {\n",
       "        text-align: right;\n",
       "    }\n",
       "</style>\n",
       "<table border=\"1\" class=\"dataframe\">\n",
       "  <thead>\n",
       "    <tr style=\"text-align: right;\">\n",
       "      <th></th>\n",
       "      <th>ID</th>\n",
       "      <th>Titles</th>\n",
       "      <th>Geners</th>\n",
       "      <th>Description</th>\n",
       "    </tr>\n",
       "  </thead>\n",
       "  <tbody>\n",
       "    <tr>\n",
       "      <th>0</th>\n",
       "      <td>1</td>\n",
       "      <td>Oscar et la dame rose (2009)</td>\n",
       "      <td>drama</td>\n",
       "      <td>Listening in to a conversation between his do...</td>\n",
       "    </tr>\n",
       "    <tr>\n",
       "      <th>1</th>\n",
       "      <td>2</td>\n",
       "      <td>Cupid (1997)</td>\n",
       "      <td>thriller</td>\n",
       "      <td>A brother and sister with a past incestuous r...</td>\n",
       "    </tr>\n",
       "    <tr>\n",
       "      <th>2</th>\n",
       "      <td>3</td>\n",
       "      <td>Young, Wild and Wonderful (1980)</td>\n",
       "      <td>adult</td>\n",
       "      <td>As the bus empties the students for their fie...</td>\n",
       "    </tr>\n",
       "    <tr>\n",
       "      <th>3</th>\n",
       "      <td>4</td>\n",
       "      <td>The Secret Sin (1915)</td>\n",
       "      <td>drama</td>\n",
       "      <td>To help their unemployed father make ends mee...</td>\n",
       "    </tr>\n",
       "    <tr>\n",
       "      <th>4</th>\n",
       "      <td>5</td>\n",
       "      <td>The Unrecovered (2007)</td>\n",
       "      <td>drama</td>\n",
       "      <td>The film's title refers not only to the un-re...</td>\n",
       "    </tr>\n",
       "  </tbody>\n",
       "</table>\n",
       "</div>"
      ],
      "text/plain": [
       "   ID                              Titles      Geners  \\\n",
       "0   1       Oscar et la dame rose (2009)       drama    \n",
       "1   2                       Cupid (1997)    thriller    \n",
       "2   3   Young, Wild and Wonderful (1980)       adult    \n",
       "3   4              The Secret Sin (1915)       drama    \n",
       "4   5             The Unrecovered (2007)       drama    \n",
       "\n",
       "                                         Description  \n",
       "0   Listening in to a conversation between his do...  \n",
       "1   A brother and sister with a past incestuous r...  \n",
       "2   As the bus empties the students for their fie...  \n",
       "3   To help their unemployed father make ends mee...  \n",
       "4   The film's title refers not only to the un-re...  "
      ]
     },
     "execution_count": 4,
     "metadata": {},
     "output_type": "execute_result"
    }
   ],
   "source": [
    "train.head()"
   ]
  },
  {
   "cell_type": "code",
   "execution_count": 5,
   "id": "381c8aac",
   "metadata": {},
   "outputs": [
    {
     "name": "stdout",
     "output_type": "stream",
     "text": [
      "<class 'pandas.core.frame.DataFrame'>\n",
      "RangeIndex: 54214 entries, 0 to 54213\n",
      "Data columns (total 4 columns):\n",
      " #   Column       Non-Null Count  Dtype \n",
      "---  ------       --------------  ----- \n",
      " 0   ID           54214 non-null  int64 \n",
      " 1   Titles       54214 non-null  object\n",
      " 2   Geners       54214 non-null  object\n",
      " 3   Description  54214 non-null  object\n",
      "dtypes: int64(1), object(3)\n",
      "memory usage: 1.7+ MB\n"
     ]
    }
   ],
   "source": [
    "train.info()"
   ]
  },
  {
   "cell_type": "code",
   "execution_count": 6,
   "id": "4f24772b",
   "metadata": {},
   "outputs": [
    {
     "data": {
      "text/html": [
       "<div>\n",
       "<style scoped>\n",
       "    .dataframe tbody tr th:only-of-type {\n",
       "        vertical-align: middle;\n",
       "    }\n",
       "\n",
       "    .dataframe tbody tr th {\n",
       "        vertical-align: top;\n",
       "    }\n",
       "\n",
       "    .dataframe thead th {\n",
       "        text-align: right;\n",
       "    }\n",
       "</style>\n",
       "<table border=\"1\" class=\"dataframe\">\n",
       "  <thead>\n",
       "    <tr style=\"text-align: right;\">\n",
       "      <th></th>\n",
       "      <th>ID</th>\n",
       "      <th>Titles</th>\n",
       "      <th>Geners</th>\n",
       "      <th>Description</th>\n",
       "    </tr>\n",
       "  </thead>\n",
       "  <tbody>\n",
       "    <tr>\n",
       "      <th>0</th>\n",
       "      <td>1</td>\n",
       "      <td>Edgar's Lunch (1998)</td>\n",
       "      <td>L.R. Brane loves his life - his car, his apar...</td>\n",
       "      <td>NaN</td>\n",
       "    </tr>\n",
       "    <tr>\n",
       "      <th>1</th>\n",
       "      <td>2</td>\n",
       "      <td>La guerra de papá (1977)</td>\n",
       "      <td>Spain, March 1964: Quico is a very naughty ch...</td>\n",
       "      <td>NaN</td>\n",
       "    </tr>\n",
       "    <tr>\n",
       "      <th>2</th>\n",
       "      <td>3</td>\n",
       "      <td>Off the Beaten Track (2010)</td>\n",
       "      <td>One year in the life of Albin and his family ...</td>\n",
       "      <td>NaN</td>\n",
       "    </tr>\n",
       "    <tr>\n",
       "      <th>3</th>\n",
       "      <td>4</td>\n",
       "      <td>Meu Amigo Hindu (2015)</td>\n",
       "      <td>His father has died, he hasn't spoken with hi...</td>\n",
       "      <td>NaN</td>\n",
       "    </tr>\n",
       "    <tr>\n",
       "      <th>4</th>\n",
       "      <td>5</td>\n",
       "      <td>Er nu zhai (1955)</td>\n",
       "      <td>Before he was known internationally as a mart...</td>\n",
       "      <td>NaN</td>\n",
       "    </tr>\n",
       "  </tbody>\n",
       "</table>\n",
       "</div>"
      ],
      "text/plain": [
       "   ID                         Titles  \\\n",
       "0   1          Edgar's Lunch (1998)    \n",
       "1   2      La guerra de papá (1977)    \n",
       "2   3   Off the Beaten Track (2010)    \n",
       "3   4        Meu Amigo Hindu (2015)    \n",
       "4   5             Er nu zhai (1955)    \n",
       "\n",
       "                                              Geners  Description  \n",
       "0   L.R. Brane loves his life - his car, his apar...          NaN  \n",
       "1   Spain, March 1964: Quico is a very naughty ch...          NaN  \n",
       "2   One year in the life of Albin and his family ...          NaN  \n",
       "3   His father has died, he hasn't spoken with hi...          NaN  \n",
       "4   Before he was known internationally as a mart...          NaN  "
      ]
     },
     "execution_count": 6,
     "metadata": {},
     "output_type": "execute_result"
    }
   ],
   "source": [
    "test.head()"
   ]
  },
  {
   "cell_type": "code",
   "execution_count": 7,
   "id": "63382a19",
   "metadata": {},
   "outputs": [
    {
     "data": {
      "text/plain": [
       "<bound method NDFrame.describe of           ID                                        Titles         Geners  \\\n",
       "0          1                 Oscar et la dame rose (2009)          drama    \n",
       "1          2                                 Cupid (1997)       thriller    \n",
       "2          3             Young, Wild and Wonderful (1980)          adult    \n",
       "3          4                        The Secret Sin (1915)          drama    \n",
       "4          5                       The Unrecovered (2007)          drama    \n",
       "...      ...                                           ...            ...   \n",
       "54209  54210                              \"Bonino\" (1953)         comedy    \n",
       "54210  54211                  Dead Girls Don't Cry (????)         horror    \n",
       "54211  54212    Ronald Goedemondt: Ze bestaan echt (2008)    documentary    \n",
       "54212  54213                     Make Your Own Bed (1944)         comedy    \n",
       "54213  54214   Nature's Fury: Storm of the Century (2006)        history    \n",
       "\n",
       "                                             Description  \n",
       "0       Listening in to a conversation between his do...  \n",
       "1       A brother and sister with a past incestuous r...  \n",
       "2       As the bus empties the students for their fie...  \n",
       "3       To help their unemployed father make ends mee...  \n",
       "4       The film's title refers not only to the un-re...  \n",
       "...                                                  ...  \n",
       "54209   This short-lived NBC live sitcom centered on ...  \n",
       "54210   The NEXT Generation of EXPLOITATION. The sist...  \n",
       "54211   Ze bestaan echt, is a stand-up comedy about g...  \n",
       "54212   Walter and Vivian live in the country and hav...  \n",
       "54213   On Labor Day Weekend, 1935, the most intense ...  \n",
       "\n",
       "[54214 rows x 4 columns]>"
      ]
     },
     "execution_count": 7,
     "metadata": {},
     "output_type": "execute_result"
    }
   ],
   "source": [
    "train.describe"
   ]
  },
  {
   "cell_type": "code",
   "execution_count": 8,
   "id": "dbe0efda",
   "metadata": {},
   "outputs": [],
   "source": [
    "test_data_sol=pd.read_csv('Genre Classification Dataset/test_data_solution.txt',sep=':::',names=[\"ID\",\"Titles\",\"Geners\",\"Description\"],engine='python')\n"
   ]
  },
  {
   "cell_type": "code",
   "execution_count": 9,
   "id": "70b6e24c",
   "metadata": {},
   "outputs": [
    {
     "data": {
      "text/html": [
       "<div>\n",
       "<style scoped>\n",
       "    .dataframe tbody tr th:only-of-type {\n",
       "        vertical-align: middle;\n",
       "    }\n",
       "\n",
       "    .dataframe tbody tr th {\n",
       "        vertical-align: top;\n",
       "    }\n",
       "\n",
       "    .dataframe thead th {\n",
       "        text-align: right;\n",
       "    }\n",
       "</style>\n",
       "<table border=\"1\" class=\"dataframe\">\n",
       "  <thead>\n",
       "    <tr style=\"text-align: right;\">\n",
       "      <th></th>\n",
       "      <th>ID</th>\n",
       "      <th>Titles</th>\n",
       "      <th>Geners</th>\n",
       "      <th>Description</th>\n",
       "    </tr>\n",
       "  </thead>\n",
       "  <tbody>\n",
       "    <tr>\n",
       "      <th>0</th>\n",
       "      <td>1</td>\n",
       "      <td>Edgar's Lunch (1998)</td>\n",
       "      <td>thriller</td>\n",
       "      <td>L.R. Brane loves his life - his car, his apar...</td>\n",
       "    </tr>\n",
       "    <tr>\n",
       "      <th>1</th>\n",
       "      <td>2</td>\n",
       "      <td>La guerra de papá (1977)</td>\n",
       "      <td>comedy</td>\n",
       "      <td>Spain, March 1964: Quico is a very naughty ch...</td>\n",
       "    </tr>\n",
       "    <tr>\n",
       "      <th>2</th>\n",
       "      <td>3</td>\n",
       "      <td>Off the Beaten Track (2010)</td>\n",
       "      <td>documentary</td>\n",
       "      <td>One year in the life of Albin and his family ...</td>\n",
       "    </tr>\n",
       "    <tr>\n",
       "      <th>3</th>\n",
       "      <td>4</td>\n",
       "      <td>Meu Amigo Hindu (2015)</td>\n",
       "      <td>drama</td>\n",
       "      <td>His father has died, he hasn't spoken with hi...</td>\n",
       "    </tr>\n",
       "    <tr>\n",
       "      <th>4</th>\n",
       "      <td>5</td>\n",
       "      <td>Er nu zhai (1955)</td>\n",
       "      <td>drama</td>\n",
       "      <td>Before he was known internationally as a mart...</td>\n",
       "    </tr>\n",
       "  </tbody>\n",
       "</table>\n",
       "</div>"
      ],
      "text/plain": [
       "   ID                         Titles         Geners  \\\n",
       "0   1          Edgar's Lunch (1998)       thriller    \n",
       "1   2      La guerra de papá (1977)         comedy    \n",
       "2   3   Off the Beaten Track (2010)    documentary    \n",
       "3   4        Meu Amigo Hindu (2015)          drama    \n",
       "4   5             Er nu zhai (1955)          drama    \n",
       "\n",
       "                                         Description  \n",
       "0   L.R. Brane loves his life - his car, his apar...  \n",
       "1   Spain, March 1964: Quico is a very naughty ch...  \n",
       "2   One year in the life of Albin and his family ...  \n",
       "3   His father has died, he hasn't spoken with hi...  \n",
       "4   Before he was known internationally as a mart...  "
      ]
     },
     "execution_count": 9,
     "metadata": {},
     "output_type": "execute_result"
    }
   ],
   "source": [
    "test_data_sol.head()"
   ]
  },
  {
   "cell_type": "code",
   "execution_count": 10,
   "id": "09d54e9c",
   "metadata": {},
   "outputs": [
    {
     "data": {
      "text/plain": [
       "(54200, 4)"
      ]
     },
     "execution_count": 10,
     "metadata": {},
     "output_type": "execute_result"
    }
   ],
   "source": [
    "test.shape"
   ]
  },
  {
   "cell_type": "code",
   "execution_count": 11,
   "id": "8522a83b",
   "metadata": {},
   "outputs": [
    {
     "data": {
      "text/plain": [
       "(54200, 4)"
      ]
     },
     "execution_count": 11,
     "metadata": {},
     "output_type": "execute_result"
    }
   ],
   "source": [
    "test_data_sol.shape"
   ]
  },
  {
   "cell_type": "code",
   "execution_count": 12,
   "id": "a2ffa209",
   "metadata": {},
   "outputs": [
    {
     "data": {
      "text/html": [
       "<div>\n",
       "<style scoped>\n",
       "    .dataframe tbody tr th:only-of-type {\n",
       "        vertical-align: middle;\n",
       "    }\n",
       "\n",
       "    .dataframe tbody tr th {\n",
       "        vertical-align: top;\n",
       "    }\n",
       "\n",
       "    .dataframe thead th {\n",
       "        text-align: right;\n",
       "    }\n",
       "</style>\n",
       "<table border=\"1\" class=\"dataframe\">\n",
       "  <thead>\n",
       "    <tr style=\"text-align: right;\">\n",
       "      <th></th>\n",
       "      <th>ID</th>\n",
       "      <th>Titles</th>\n",
       "      <th>Geners</th>\n",
       "      <th>Description</th>\n",
       "    </tr>\n",
       "  </thead>\n",
       "  <tbody>\n",
       "    <tr>\n",
       "      <th>0</th>\n",
       "      <td>False</td>\n",
       "      <td>False</td>\n",
       "      <td>False</td>\n",
       "      <td>False</td>\n",
       "    </tr>\n",
       "    <tr>\n",
       "      <th>1</th>\n",
       "      <td>False</td>\n",
       "      <td>False</td>\n",
       "      <td>False</td>\n",
       "      <td>False</td>\n",
       "    </tr>\n",
       "    <tr>\n",
       "      <th>2</th>\n",
       "      <td>False</td>\n",
       "      <td>False</td>\n",
       "      <td>False</td>\n",
       "      <td>False</td>\n",
       "    </tr>\n",
       "    <tr>\n",
       "      <th>3</th>\n",
       "      <td>False</td>\n",
       "      <td>False</td>\n",
       "      <td>False</td>\n",
       "      <td>False</td>\n",
       "    </tr>\n",
       "    <tr>\n",
       "      <th>4</th>\n",
       "      <td>False</td>\n",
       "      <td>False</td>\n",
       "      <td>False</td>\n",
       "      <td>False</td>\n",
       "    </tr>\n",
       "    <tr>\n",
       "      <th>...</th>\n",
       "      <td>...</td>\n",
       "      <td>...</td>\n",
       "      <td>...</td>\n",
       "      <td>...</td>\n",
       "    </tr>\n",
       "    <tr>\n",
       "      <th>54209</th>\n",
       "      <td>False</td>\n",
       "      <td>False</td>\n",
       "      <td>False</td>\n",
       "      <td>False</td>\n",
       "    </tr>\n",
       "    <tr>\n",
       "      <th>54210</th>\n",
       "      <td>False</td>\n",
       "      <td>False</td>\n",
       "      <td>False</td>\n",
       "      <td>False</td>\n",
       "    </tr>\n",
       "    <tr>\n",
       "      <th>54211</th>\n",
       "      <td>False</td>\n",
       "      <td>False</td>\n",
       "      <td>False</td>\n",
       "      <td>False</td>\n",
       "    </tr>\n",
       "    <tr>\n",
       "      <th>54212</th>\n",
       "      <td>False</td>\n",
       "      <td>False</td>\n",
       "      <td>False</td>\n",
       "      <td>False</td>\n",
       "    </tr>\n",
       "    <tr>\n",
       "      <th>54213</th>\n",
       "      <td>False</td>\n",
       "      <td>False</td>\n",
       "      <td>False</td>\n",
       "      <td>False</td>\n",
       "    </tr>\n",
       "  </tbody>\n",
       "</table>\n",
       "<p>54214 rows × 4 columns</p>\n",
       "</div>"
      ],
      "text/plain": [
       "          ID  Titles  Geners  Description\n",
       "0      False   False   False        False\n",
       "1      False   False   False        False\n",
       "2      False   False   False        False\n",
       "3      False   False   False        False\n",
       "4      False   False   False        False\n",
       "...      ...     ...     ...          ...\n",
       "54209  False   False   False        False\n",
       "54210  False   False   False        False\n",
       "54211  False   False   False        False\n",
       "54212  False   False   False        False\n",
       "54213  False   False   False        False\n",
       "\n",
       "[54214 rows x 4 columns]"
      ]
     },
     "execution_count": 12,
     "metadata": {},
     "output_type": "execute_result"
    }
   ],
   "source": [
    "train.isnull()"
   ]
  },
  {
   "cell_type": "code",
   "execution_count": 13,
   "id": "6d6a2d67",
   "metadata": {},
   "outputs": [
    {
     "data": {
      "text/plain": [
       "ID             0\n",
       "Titles         0\n",
       "Geners         0\n",
       "Description    0\n",
       "dtype: int64"
      ]
     },
     "execution_count": 13,
     "metadata": {},
     "output_type": "execute_result"
    }
   ],
   "source": [
    "train.isnull().sum()"
   ]
  },
  {
   "cell_type": "code",
   "execution_count": 14,
   "id": "4af01b4e",
   "metadata": {},
   "outputs": [
    {
     "data": {
      "text/html": [
       "<div>\n",
       "<style scoped>\n",
       "    .dataframe tbody tr th:only-of-type {\n",
       "        vertical-align: middle;\n",
       "    }\n",
       "\n",
       "    .dataframe tbody tr th {\n",
       "        vertical-align: top;\n",
       "    }\n",
       "\n",
       "    .dataframe thead th {\n",
       "        text-align: right;\n",
       "    }\n",
       "</style>\n",
       "<table border=\"1\" class=\"dataframe\">\n",
       "  <thead>\n",
       "    <tr style=\"text-align: right;\">\n",
       "      <th></th>\n",
       "      <th>ID</th>\n",
       "      <th>Titles</th>\n",
       "      <th>Geners</th>\n",
       "      <th>Description</th>\n",
       "    </tr>\n",
       "  </thead>\n",
       "  <tbody>\n",
       "    <tr>\n",
       "      <th>0</th>\n",
       "      <td>False</td>\n",
       "      <td>False</td>\n",
       "      <td>False</td>\n",
       "      <td>True</td>\n",
       "    </tr>\n",
       "    <tr>\n",
       "      <th>1</th>\n",
       "      <td>False</td>\n",
       "      <td>False</td>\n",
       "      <td>False</td>\n",
       "      <td>True</td>\n",
       "    </tr>\n",
       "    <tr>\n",
       "      <th>2</th>\n",
       "      <td>False</td>\n",
       "      <td>False</td>\n",
       "      <td>False</td>\n",
       "      <td>True</td>\n",
       "    </tr>\n",
       "    <tr>\n",
       "      <th>3</th>\n",
       "      <td>False</td>\n",
       "      <td>False</td>\n",
       "      <td>False</td>\n",
       "      <td>True</td>\n",
       "    </tr>\n",
       "    <tr>\n",
       "      <th>4</th>\n",
       "      <td>False</td>\n",
       "      <td>False</td>\n",
       "      <td>False</td>\n",
       "      <td>True</td>\n",
       "    </tr>\n",
       "    <tr>\n",
       "      <th>...</th>\n",
       "      <td>...</td>\n",
       "      <td>...</td>\n",
       "      <td>...</td>\n",
       "      <td>...</td>\n",
       "    </tr>\n",
       "    <tr>\n",
       "      <th>54195</th>\n",
       "      <td>False</td>\n",
       "      <td>False</td>\n",
       "      <td>False</td>\n",
       "      <td>True</td>\n",
       "    </tr>\n",
       "    <tr>\n",
       "      <th>54196</th>\n",
       "      <td>False</td>\n",
       "      <td>False</td>\n",
       "      <td>False</td>\n",
       "      <td>True</td>\n",
       "    </tr>\n",
       "    <tr>\n",
       "      <th>54197</th>\n",
       "      <td>False</td>\n",
       "      <td>False</td>\n",
       "      <td>False</td>\n",
       "      <td>True</td>\n",
       "    </tr>\n",
       "    <tr>\n",
       "      <th>54198</th>\n",
       "      <td>False</td>\n",
       "      <td>False</td>\n",
       "      <td>False</td>\n",
       "      <td>True</td>\n",
       "    </tr>\n",
       "    <tr>\n",
       "      <th>54199</th>\n",
       "      <td>False</td>\n",
       "      <td>False</td>\n",
       "      <td>False</td>\n",
       "      <td>True</td>\n",
       "    </tr>\n",
       "  </tbody>\n",
       "</table>\n",
       "<p>54200 rows × 4 columns</p>\n",
       "</div>"
      ],
      "text/plain": [
       "          ID  Titles  Geners  Description\n",
       "0      False   False   False         True\n",
       "1      False   False   False         True\n",
       "2      False   False   False         True\n",
       "3      False   False   False         True\n",
       "4      False   False   False         True\n",
       "...      ...     ...     ...          ...\n",
       "54195  False   False   False         True\n",
       "54196  False   False   False         True\n",
       "54197  False   False   False         True\n",
       "54198  False   False   False         True\n",
       "54199  False   False   False         True\n",
       "\n",
       "[54200 rows x 4 columns]"
      ]
     },
     "execution_count": 14,
     "metadata": {},
     "output_type": "execute_result"
    }
   ],
   "source": [
    "test.isnull()"
   ]
  },
  {
   "cell_type": "code",
   "execution_count": 15,
   "id": "aa0a7870",
   "metadata": {},
   "outputs": [
    {
     "data": {
      "text/plain": [
       "ID                 0\n",
       "Titles             0\n",
       "Geners             0\n",
       "Description    54200\n",
       "dtype: int64"
      ]
     },
     "execution_count": 15,
     "metadata": {},
     "output_type": "execute_result"
    }
   ],
   "source": [
    "test.isnull().sum()"
   ]
  },
  {
   "cell_type": "code",
   "execution_count": 16,
   "id": "698eec35",
   "metadata": {},
   "outputs": [
    {
     "data": {
      "text/plain": [
       "ID             0\n",
       "Titles         0\n",
       "Geners         0\n",
       "Description    0\n",
       "dtype: int64"
      ]
     },
     "execution_count": 16,
     "metadata": {},
     "output_type": "execute_result"
    }
   ],
   "source": [
    "test_data_sol.isnull().sum()"
   ]
  },
  {
   "cell_type": "code",
   "execution_count": 17,
   "id": "ded00b3b",
   "metadata": {},
   "outputs": [],
   "source": [
    "import re"
   ]
  },
  {
   "cell_type": "code",
   "execution_count": 18,
   "id": "64de3ef3",
   "metadata": {},
   "outputs": [
    {
     "name": "stderr",
     "output_type": "stream",
     "text": [
      "[nltk_data] Downloading package punkt to C:\\Users\\Nisarg\n",
      "[nltk_data]     Shah\\AppData\\Roaming\\nltk_data...\n",
      "[nltk_data]   Package punkt is already up-to-date!\n"
     ]
    },
    {
     "data": {
      "text/plain": [
       "True"
      ]
     },
     "execution_count": 18,
     "metadata": {},
     "output_type": "execute_result"
    }
   ],
   "source": [
    "import nltk\n",
    "nltk.download('punkt')"
   ]
  },
  {
   "cell_type": "code",
   "execution_count": 21,
   "id": "9cd277c7",
   "metadata": {},
   "outputs": [],
   "source": [
    "from nltk.corpus import stopwords"
   ]
  },
  {
   "cell_type": "code",
   "execution_count": 22,
   "id": "772fb978",
   "metadata": {},
   "outputs": [],
   "source": [
    "import string"
   ]
  },
  {
   "cell_type": "code",
   "execution_count": 23,
   "id": "2d15bf71",
   "metadata": {},
   "outputs": [],
   "source": [
    "from nltk.stem import LancasterStemmer\n",
    "stremmer=LancasterStemmer()\n",
    "stop_words = set(stopwords.words('english'))\n",
    "def remove_unnecessary_punctuation(text):\n",
    "    text = text.lower()  \n",
    "    text = re.sub(r'@\\S+', '', text)  \n",
    "    text = re.sub(r'http\\S+', '', text)  \n",
    "    text = re.sub(r'pic.\\S+', '', text)\n",
    "    text = re.sub(r\"[^a-zA-Z+']\", ' ', text)  \n",
    "    text = re.sub(r'\\s+[a-zA-Z]\\s+', ' ', text + ' ')  \n",
    "    text = \"\".join([i for i in text if i not in string.punctuation])\n",
    "    words = nltk.word_tokenize(text)\n",
    "    stopwords = nltk.corpus.stopwords.words('english')  \n",
    "    text = \" \".join([i for i in words if i not in stopwords and len(i) > 2])\n",
    "    text = re.sub(\"\\s[\\s]+\", \" \", text).strip()  \n",
    "    return text\n",
    "\n",
    "train[\"Clean_Description\"]=train[\"Description\"].apply(remove_unnecessary_punctuation)"
   ]
  },
  {
   "cell_type": "code",
   "execution_count": 24,
   "id": "c315b0dd",
   "metadata": {},
   "outputs": [],
   "source": [
    "from plotly import __version__\n",
    "from plotly.offline import iplot\n"
   ]
  },
  {
   "cell_type": "code",
   "execution_count": 25,
   "id": "f2cbafce",
   "metadata": {},
   "outputs": [
    {
     "name": "stdout",
     "output_type": "stream",
     "text": [
      "Requirement already satisfied: cufflinks in c:\\users\\nisarg shah\\anaconda3\\lib\\site-packages (0.17.3)Note: you may need to restart the kernel to use updated packages.\n",
      "\n",
      "Requirement already satisfied: numpy>=1.9.2 in c:\\users\\nisarg shah\\anaconda3\\lib\\site-packages (from cufflinks) (1.24.3)\n",
      "Requirement already satisfied: pandas>=0.19.2 in c:\\users\\nisarg shah\\anaconda3\\lib\\site-packages (from cufflinks) (1.5.3)\n",
      "Requirement already satisfied: plotly>=4.1.1 in c:\\users\\nisarg shah\\anaconda3\\lib\\site-packages (from cufflinks) (5.9.0)\n",
      "Requirement already satisfied: six>=1.9.0 in c:\\users\\nisarg shah\\anaconda3\\lib\\site-packages (from cufflinks) (1.16.0)\n",
      "Requirement already satisfied: colorlover>=0.2.1 in c:\\users\\nisarg shah\\anaconda3\\lib\\site-packages (from cufflinks) (0.3.0)\n",
      "Requirement already satisfied: setuptools>=34.4.1 in c:\\users\\nisarg shah\\anaconda3\\lib\\site-packages (from cufflinks) (68.0.0)\n",
      "Requirement already satisfied: ipython>=5.3.0 in c:\\users\\nisarg shah\\anaconda3\\lib\\site-packages (from cufflinks) (8.12.0)\n",
      "Requirement already satisfied: ipywidgets>=7.0.0 in c:\\users\\nisarg shah\\anaconda3\\lib\\site-packages (from cufflinks) (8.0.4)\n",
      "Requirement already satisfied: backcall in c:\\users\\nisarg shah\\anaconda3\\lib\\site-packages (from ipython>=5.3.0->cufflinks) (0.2.0)\n",
      "Requirement already satisfied: decorator in c:\\users\\nisarg shah\\anaconda3\\lib\\site-packages (from ipython>=5.3.0->cufflinks) (5.1.1)\n",
      "Requirement already satisfied: jedi>=0.16 in c:\\users\\nisarg shah\\anaconda3\\lib\\site-packages (from ipython>=5.3.0->cufflinks) (0.18.1)\n",
      "Requirement already satisfied: matplotlib-inline in c:\\users\\nisarg shah\\anaconda3\\lib\\site-packages (from ipython>=5.3.0->cufflinks) (0.1.6)\n",
      "Requirement already satisfied: pickleshare in c:\\users\\nisarg shah\\anaconda3\\lib\\site-packages (from ipython>=5.3.0->cufflinks) (0.7.5)\n",
      "Requirement already satisfied: prompt-toolkit!=3.0.37,<3.1.0,>=3.0.30 in c:\\users\\nisarg shah\\anaconda3\\lib\\site-packages (from ipython>=5.3.0->cufflinks) (3.0.36)\n",
      "Requirement already satisfied: pygments>=2.4.0 in c:\\users\\nisarg shah\\anaconda3\\lib\\site-packages (from ipython>=5.3.0->cufflinks) (2.15.1)\n",
      "Requirement already satisfied: stack-data in c:\\users\\nisarg shah\\anaconda3\\lib\\site-packages (from ipython>=5.3.0->cufflinks) (0.2.0)\n",
      "Requirement already satisfied: traitlets>=5 in c:\\users\\nisarg shah\\anaconda3\\lib\\site-packages (from ipython>=5.3.0->cufflinks) (5.7.1)\n",
      "Requirement already satisfied: colorama in c:\\users\\nisarg shah\\anaconda3\\lib\\site-packages (from ipython>=5.3.0->cufflinks) (0.4.6)\n",
      "Requirement already satisfied: ipykernel>=4.5.1 in c:\\users\\nisarg shah\\anaconda3\\lib\\site-packages (from ipywidgets>=7.0.0->cufflinks) (6.19.2)\n",
      "Requirement already satisfied: widgetsnbextension~=4.0 in c:\\users\\nisarg shah\\anaconda3\\lib\\site-packages (from ipywidgets>=7.0.0->cufflinks) (4.0.5)\n",
      "Requirement already satisfied: jupyterlab-widgets~=3.0 in c:\\users\\nisarg shah\\anaconda3\\lib\\site-packages (from ipywidgets>=7.0.0->cufflinks) (3.0.5)\n",
      "Requirement already satisfied: python-dateutil>=2.8.1 in c:\\users\\nisarg shah\\anaconda3\\lib\\site-packages (from pandas>=0.19.2->cufflinks) (2.8.2)\n",
      "Requirement already satisfied: pytz>=2020.1 in c:\\users\\nisarg shah\\anaconda3\\lib\\site-packages (from pandas>=0.19.2->cufflinks) (2022.7)\n",
      "Requirement already satisfied: tenacity>=6.2.0 in c:\\users\\nisarg shah\\anaconda3\\lib\\site-packages (from plotly>=4.1.1->cufflinks) (8.2.2)\n",
      "Requirement already satisfied: comm>=0.1.1 in c:\\users\\nisarg shah\\anaconda3\\lib\\site-packages (from ipykernel>=4.5.1->ipywidgets>=7.0.0->cufflinks) (0.1.2)\n",
      "Requirement already satisfied: debugpy>=1.0 in c:\\users\\nisarg shah\\anaconda3\\lib\\site-packages (from ipykernel>=4.5.1->ipywidgets>=7.0.0->cufflinks) (1.6.7)\n",
      "Requirement already satisfied: jupyter-client>=6.1.12 in c:\\users\\nisarg shah\\anaconda3\\lib\\site-packages (from ipykernel>=4.5.1->ipywidgets>=7.0.0->cufflinks) (7.4.9)\n",
      "Requirement already satisfied: nest-asyncio in c:\\users\\nisarg shah\\anaconda3\\lib\\site-packages (from ipykernel>=4.5.1->ipywidgets>=7.0.0->cufflinks) (1.5.6)\n",
      "Requirement already satisfied: packaging in c:\\users\\nisarg shah\\anaconda3\\lib\\site-packages (from ipykernel>=4.5.1->ipywidgets>=7.0.0->cufflinks) (23.0)\n",
      "Requirement already satisfied: psutil in c:\\users\\nisarg shah\\anaconda3\\lib\\site-packages (from ipykernel>=4.5.1->ipywidgets>=7.0.0->cufflinks) (5.9.0)\n",
      "Requirement already satisfied: pyzmq>=17 in c:\\users\\nisarg shah\\anaconda3\\lib\\site-packages (from ipykernel>=4.5.1->ipywidgets>=7.0.0->cufflinks) (23.2.0)\n",
      "Requirement already satisfied: tornado>=6.1 in c:\\users\\nisarg shah\\anaconda3\\lib\\site-packages (from ipykernel>=4.5.1->ipywidgets>=7.0.0->cufflinks) (6.3.2)\n",
      "Requirement already satisfied: parso<0.9.0,>=0.8.0 in c:\\users\\nisarg shah\\anaconda3\\lib\\site-packages (from jedi>=0.16->ipython>=5.3.0->cufflinks) (0.8.3)\n",
      "Requirement already satisfied: wcwidth in c:\\users\\nisarg shah\\anaconda3\\lib\\site-packages (from prompt-toolkit!=3.0.37,<3.1.0,>=3.0.30->ipython>=5.3.0->cufflinks) (0.2.5)\n",
      "Requirement already satisfied: executing in c:\\users\\nisarg shah\\anaconda3\\lib\\site-packages (from stack-data->ipython>=5.3.0->cufflinks) (0.8.3)\n",
      "Requirement already satisfied: asttokens in c:\\users\\nisarg shah\\anaconda3\\lib\\site-packages (from stack-data->ipython>=5.3.0->cufflinks) (2.0.5)\n",
      "Requirement already satisfied: pure-eval in c:\\users\\nisarg shah\\anaconda3\\lib\\site-packages (from stack-data->ipython>=5.3.0->cufflinks) (0.2.2)\n",
      "Requirement already satisfied: entrypoints in c:\\users\\nisarg shah\\anaconda3\\lib\\site-packages (from jupyter-client>=6.1.12->ipykernel>=4.5.1->ipywidgets>=7.0.0->cufflinks) (0.4)\n",
      "Requirement already satisfied: jupyter-core>=4.9.2 in c:\\users\\nisarg shah\\anaconda3\\lib\\site-packages (from jupyter-client>=6.1.12->ipykernel>=4.5.1->ipywidgets>=7.0.0->cufflinks) (5.3.0)\n",
      "Requirement already satisfied: platformdirs>=2.5 in c:\\users\\nisarg shah\\anaconda3\\lib\\site-packages (from jupyter-core>=4.9.2->jupyter-client>=6.1.12->ipykernel>=4.5.1->ipywidgets>=7.0.0->cufflinks) (2.5.2)\n",
      "Requirement already satisfied: pywin32>=300 in c:\\users\\nisarg shah\\anaconda3\\lib\\site-packages (from jupyter-core>=4.9.2->jupyter-client>=6.1.12->ipykernel>=4.5.1->ipywidgets>=7.0.0->cufflinks) (305.1)\n"
     ]
    }
   ],
   "source": [
    "pip install cufflinks"
   ]
  },
  {
   "cell_type": "code",
   "execution_count": 26,
   "id": "ae537156",
   "metadata": {},
   "outputs": [
    {
     "name": "stderr",
     "output_type": "stream",
     "text": [
      "C:\\Users\\Nisarg Shah\\anaconda3\\Lib\\site-packages\\paramiko\\transport.py:219: CryptographyDeprecationWarning:\n",
      "\n",
      "Blowfish has been deprecated\n",
      "\n"
     ]
    }
   ],
   "source": [
    "import cufflinks as cf"
   ]
  },
  {
   "cell_type": "code",
   "execution_count": 27,
   "id": "c781e63b",
   "metadata": {},
   "outputs": [
    {
     "ename": "NameError",
     "evalue": "name 'init_notebook_mode' is not defined",
     "output_type": "error",
     "traceback": [
      "\u001b[1;31m---------------------------------------------------------------------------\u001b[0m",
      "\u001b[1;31mNameError\u001b[0m                                 Traceback (most recent call last)",
      "Cell \u001b[1;32mIn[27], line 1\u001b[0m\n\u001b[1;32m----> 1\u001b[0m init_notebook_mode(connected\u001b[38;5;241m=\u001b[39m\u001b[38;5;28;01mTrue\u001b[39;00m)\n",
      "\u001b[1;31mNameError\u001b[0m: name 'init_notebook_mode' is not defined"
     ]
    }
   ],
   "source": [
    "init_notebook_mode(connected=True)"
   ]
  },
  {
   "cell_type": "code",
   "execution_count": 28,
   "id": "1287ae96",
   "metadata": {},
   "outputs": [
    {
     "data": {
      "text/html": [
       "        <script type=\"text/javascript\">\n",
       "        window.PlotlyConfig = {MathJaxConfig: 'local'};\n",
       "        if (window.MathJax && window.MathJax.Hub && window.MathJax.Hub.Config) {window.MathJax.Hub.Config({SVG: {font: \"STIX-Web\"}});}\n",
       "        if (typeof require !== 'undefined') {\n",
       "        require.undef(\"plotly\");\n",
       "        requirejs.config({\n",
       "            paths: {\n",
       "                'plotly': ['https://cdn.plot.ly/plotly-2.12.1.min']\n",
       "            }\n",
       "        });\n",
       "        require(['plotly'], function(Plotly) {\n",
       "            window._Plotly = Plotly;\n",
       "        });\n",
       "        }\n",
       "        </script>\n",
       "        "
      ]
     },
     "metadata": {},
     "output_type": "display_data"
    }
   ],
   "source": [
    "cf.go_offline()"
   ]
  },
  {
   "cell_type": "code",
   "execution_count": 30,
   "id": "d6520ebd",
   "metadata": {},
   "outputs": [
    {
     "data": {
      "image/png": "[encoded data removed]",
      "text/plain": [
       "<Figure size 1500x1800 with 1 Axes>"
      ]
     },
     "metadata": {},
     "output_type": "display_data"
    }
   ],
   "source": [
    "plt.figure(figsize=(15,18))\n",
    "sns.countplot(data=train,y='Geners')\n",
    "plt.show()"
   ]
  },
  {
   "cell_type": "code",
   "execution_count": 31,
   "id": "e67c25d7",
   "metadata": {},
   "outputs": [],
   "source": [
    "from sklearn.model_selection import train_test_split"
   ]
  },
  {
   "cell_type": "code",
   "execution_count": 32,
   "id": "5646773d",
   "metadata": {},
   "outputs": [],
   "source": [
    "X=train['Clean_Description'].iloc[:60000]\n",
    "y=train['Geners'].iloc[:60000]\n",
    "X_train, X_test, y_train, y_test = train_test_split(X, y, test_size= 0.6, random_state=101)"
   ]
  },
  {
   "cell_type": "code",
   "execution_count": 33,
   "id": "5aa38715",
   "metadata": {},
   "outputs": [],
   "source": [
    "from sklearn.svm import SVC"
   ]
  },
  {
   "cell_type": "code",
   "execution_count": 34,
   "id": "10fa2210",
   "metadata": {},
   "outputs": [],
   "source": [
    "svc=SVC()"
   ]
  },
  {
   "cell_type": "code",
   "execution_count": 35,
   "id": "c0ae20e5",
   "metadata": {},
   "outputs": [],
   "source": [
    "from sklearn.feature_extraction.text import TfidfVectorizer"
   ]
  },
  {
   "cell_type": "code",
   "execution_count": 36,
   "id": "34913284",
   "metadata": {},
   "outputs": [],
   "source": [
    "vectorize = TfidfVectorizer()\n",
    "X_train_tfidf  = vectorize.fit_transform(X_train)\n",
    "X_test_tfidf  = vectorize.transform(X_test)"
   ]
  },
  {
   "cell_type": "code",
   "execution_count": 37,
   "id": "7d92d96e",
   "metadata": {},
   "outputs": [
    {
     "data": {
      "text/html": [
       "<style>#sk-container-id-1 {color: black;}#sk-container-id-1 pre{padding: 0;}#sk-container-id-1 div.sk-toggleable {background-color: white;}#sk-container-id-1 label.sk-toggleable__label {cursor: pointer;display: block;width: 100%;margin-bottom: 0;padding: 0.3em;box-sizing: border-box;text-align: center;}#sk-container-id-1 label.sk-toggleable__label-arrow:before {content: \"▸\";float: left;margin-right: 0.25em;color: #696969;}#sk-container-id-1 label.sk-toggleable__label-arrow:hover:before {color: black;}#sk-container-id-1 div.sk-estimator:hover label.sk-toggleable__label-arrow:before {color: black;}#sk-container-id-1 div.sk-toggleable__content {max-height: 0;max-width: 0;overflow: hidden;text-align: left;background-color: #f0f8ff;}#sk-container-id-1 div.sk-toggleable__content pre {margin: 0.2em;color: black;border-radius: 0.25em;background-color: #f0f8ff;}#sk-container-id-1 input.sk-toggleable__control:checked~div.sk-toggleable__content {max-height: 200px;max-width: 100%;overflow: auto;}#sk-container-id-1 input.sk-toggleable__control:checked~label.sk-toggleable__label-arrow:before {content: \"▾\";}#sk-container-id-1 div.sk-estimator input.sk-toggleable__control:checked~label.sk-toggleable__label {background-color: #d4ebff;}#sk-container-id-1 div.sk-label input.sk-toggleable__control:checked~label.sk-toggleable__label {background-color: #d4ebff;}#sk-container-id-1 input.sk-hidden--visually {border: 0;clip: rect(1px 1px 1px 1px);clip: rect(1px, 1px, 1px, 1px);height: 1px;margin: -1px;overflow: hidden;padding: 0;position: absolute;width: 1px;}#sk-container-id-1 div.sk-estimator {font-family: monospace;background-color: #f0f8ff;border: 1px dotted black;border-radius: 0.25em;box-sizing: border-box;margin-bottom: 0.5em;}#sk-container-id-1 div.sk-estimator:hover {background-color: #d4ebff;}#sk-container-id-1 div.sk-parallel-item::after {content: \"\";width: 100%;border-bottom: 1px solid gray;flex-grow: 1;}#sk-container-id-1 div.sk-label:hover label.sk-toggleable__label {background-color: #d4ebff;}#sk-container-id-1 div.sk-serial::before {content: \"\";position: absolute;border-left: 1px solid gray;box-sizing: border-box;top: 0;bottom: 0;left: 50%;z-index: 0;}#sk-container-id-1 div.sk-serial {display: flex;flex-direction: column;align-items: center;background-color: white;padding-right: 0.2em;padding-left: 0.2em;position: relative;}#sk-container-id-1 div.sk-item {position: relative;z-index: 1;}#sk-container-id-1 div.sk-parallel {display: flex;align-items: stretch;justify-content: center;background-color: white;position: relative;}#sk-container-id-1 div.sk-item::before, #sk-container-id-1 div.sk-parallel-item::before {content: \"\";position: absolute;border-left: 1px solid gray;box-sizing: border-box;top: 0;bottom: 0;left: 50%;z-index: -1;}#sk-container-id-1 div.sk-parallel-item {display: flex;flex-direction: column;z-index: 1;position: relative;background-color: white;}#sk-container-id-1 div.sk-parallel-item:first-child::after {align-self: flex-end;width: 50%;}#sk-container-id-1 div.sk-parallel-item:last-child::after {align-self: flex-start;width: 50%;}#sk-container-id-1 div.sk-parallel-item:only-child::after {width: 0;}#sk-container-id-1 div.sk-dashed-wrapped {border: 1px dashed gray;margin: 0 0.4em 0.5em 0.4em;box-sizing: border-box;padding-bottom: 0.4em;background-color: white;}#sk-container-id-1 div.sk-label label {font-family: monospace;font-weight: bold;display: inline-block;line-height: 1.2em;}#sk-container-id-1 div.sk-label-container {text-align: center;}#sk-container-id-1 div.sk-container {/* jupyter's `normalize.less` sets `[hidden] { display: none; }` but bootstrap.min.css set `[hidden] { display: none !important; }` so we also need the `!important` here to be able to override the default hidden behavior on the sphinx rendered scikit-learn.org. See: https://github.com/scikit-learn/scikit-learn/issues/21755 */display: inline-block !important;position: relative;}#sk-container-id-1 div.sk-text-repr-fallback {display: none;}</style><div id=\"sk-container-id-1\" class=\"sk-top-container\"><div class=\"sk-text-repr-fallback\"><pre>SVC()</pre><b>In a Jupyter environment, please rerun this cell to show the HTML representation or trust the notebook. <br />On GitHub, the HTML representation is unable to render, please try loading this page with nbviewer.org.</b></div><div class=\"sk-container\" hidden><div class=\"sk-item\"><div class=\"sk-estimator sk-toggleable\"><input class=\"sk-toggleable__control sk-hidden--visually\" id=\"sk-estimator-id-1\" type=\"checkbox\" checked><label for=\"sk-estimator-id-1\" class=\"sk-toggleable__label sk-toggleable__label-arrow\">SVC</label><div class=\"sk-toggleable__content\"><pre>SVC()</pre></div></div></div></div></div>"
      ],
      "text/plain": [
       "SVC()"
      ]
     },
     "execution_count": 37,
     "metadata": {},
     "output_type": "execute_result"
    }
   ],
   "source": [
    "svc.fit(X_train_tfidf,y_train)"
   ]
  },
  {
   "cell_type": "code",
   "execution_count": 38,
   "id": "01d6f357",
   "metadata": {},
   "outputs": [],
   "source": [
    "predictions = svc.predict(X_test_tfidf)"
   ]
  },
  {
   "cell_type": "code",
   "execution_count": 39,
   "id": "e2485252",
   "metadata": {},
   "outputs": [],
   "source": [
    "from sklearn.metrics import classification_report,confusion_matrix"
   ]
  },
  {
   "cell_type": "code",
   "execution_count": 40,
   "id": "28b07fc4",
   "metadata": {},
   "outputs": [
    {
     "name": "stdout",
     "output_type": "stream",
     "text": [
      "[[  20    0    0    0    0   65    0  158  520    0    0    0    0   13\n",
      "     0    0    0    0    0    0    2    9    0    0    1    0    4]\n",
      " [   0   30   10    0    0  109    0   32  144    0    0    0    0    1\n",
      "     0    0    0    0    0    0    0   11    0    0    0    0    0]\n",
      " [   0   11   26    0    0   55    0  122  247    0    0    0    0   13\n",
      "     0    0    0    0    0    0    0    9    0    0    2    0    0]\n",
      " [   0    0    0    0    0   96    0   65  121    0    0    0    0    7\n",
      "     0    0    0    0    0    0    0   10    0    0    0    0    0]\n",
      " [   0    0    0    0    0    9    0  118   35    0    0    0    0    0\n",
      "     0    0    0    0    0    0    0    1    0    0    1    0    0]\n",
      " [   1    0    0    0    0 2076    0  382 1933    0    0    0    0   21\n",
      "     1    0    0    0    0    0    0   32    0    0    1    0    0]\n",
      " [   2    0    0    0    0   29    0   41  238    0    0    0    0    3\n",
      "     0    0    0    0    0    0    0    1    0    0    1    0    0]\n",
      " [   1    0    0    0    0   99    0 7013  698    2    0    1    0   18\n",
      "     4    0    0    0    0    0    0   50    0    0    0    0    1]\n",
      " [   0    0    0    0    0  419    0  796 6860    0    0    0    0   20\n",
      "     0    0    0    0    0    0    0   59    0    0    3    0   10]\n",
      " [   0    0    0    0    0  105    0  136  218    4    0    0    0    1\n",
      "     0    0    0    0    0    0    0   11    0    0    0    0    0]\n",
      " [   1    0    0    0    0   20    0   43  107    0    0    0    0    3\n",
      "     0    0    0    0    0    0    0    5    0    0    0    0    0]\n",
      " [   0    0    0    0    0   41    0   28    5    0    0   36    0    0\n",
      "     0    0    0    0    0    0    0    1    0    0    0    0    0]\n",
      " [   0    0    0    0    0    0    0  109   39    0    0    0    0    0\n",
      "     0    0    0    0    0    0    0    1    0    0    0    0    1]\n",
      " [   0    0    0    0    0  102    0  102  579    0    0    0    0  511\n",
      "     0    0    0    0    0    0    1   10    0    0    3    0    0]\n",
      " [   0    0    0    0    0   35    0  306   29    0    0    0    0    1\n",
      "    59    0    0    0    0    0    0    3    0    0    0    0    0]\n",
      " [   0    0    0    0    0   26    0   51   83    0    0    0    0    2\n",
      "     3    0    0    0    0    0    0    3    0    0    0    0    0]\n",
      " [   0    0    0    0    0   12    0   27  147    0    0    0    0    8\n",
      "     0    0    0    0    0    0    0    7    0    0    1    0    0]\n",
      " [   0    0    0    0    0    8    0   94    8    0    0    0    0    0\n",
      "     0    0    0    0    0    0    0    0    0    0    0    0    0]\n",
      " [   0    0    0    0    0  137    0  354   62    0    0    0    0    2\n",
      "     0    0    0    0    1    0    0    5    0    0    0    0    0]\n",
      " [   0    0    0    0    0   45    0    9  362    0    0    0    0    0\n",
      "     0    0    0    0    0    0    0    0    0    0    0    0    0]\n",
      " [   0    0    0    0    0   37    0  148  177    0    0    0    0   14\n",
      "     0    0    0    0    0    0   11   11    0    0    0    0    0]\n",
      " [   1    0    1    0    0  221    0 1077 1256    0    0    0    0   19\n",
      "     0    0    0    0    0    0    0  458    0    0    1    0    0]\n",
      " [   0    0    0    0    0   19    0  197   29    0    0    0    0    0\n",
      "     0    0    0    0    0    0    0    7    5    0    0    0    0]\n",
      " [   1    0    0    0    0   57    0  165    8    0    0    0    0    0\n",
      "     1    0    0    0    0    0    0    2    0    3    0    0    0]\n",
      " [   1    0    0    0    0   65    0   57  733    0    0    0    0   41\n",
      "     0    0    0    0    0    0    0   13    0    0   20    0    1]\n",
      " [   0    0    0    0    0    3    0   28   45    0    0    0    0    0\n",
      "     0    0    0    0    0    0    0    2    0    0    0    0    0]\n",
      " [   0    0    0    0    0   30    0   11  238    0    0    0    0    0\n",
      "     0    0    0    0    0    0    0    1    0    0    0    0  308]]\n"
     ]
    }
   ],
   "source": [
    "print(confusion_matrix(y_test,predictions))"
   ]
  },
  {
   "cell_type": "code",
   "execution_count": 41,
   "id": "7ddd1450",
   "metadata": {},
   "outputs": [
    {
     "name": "stderr",
     "output_type": "stream",
     "text": [
      "C:\\Users\\Nisarg Shah\\anaconda3\\Lib\\site-packages\\sklearn\\metrics\\_classification.py:1469: UndefinedMetricWarning:\n",
      "\n",
      "Precision and F-score are ill-defined and being set to 0.0 in labels with no predicted samples. Use `zero_division` parameter to control this behavior.\n",
      "\n"
     ]
    },
    {
     "name": "stdout",
     "output_type": "stream",
     "text": [
      "               precision    recall  f1-score   support\n",
      "\n",
      "      action        0.71      0.03      0.05       792\n",
      "       adult        0.73      0.09      0.16       337\n",
      "   adventure        0.70      0.05      0.10       485\n",
      "   animation        0.00      0.00      0.00       299\n",
      "   biography        0.00      0.00      0.00       164\n",
      "      comedy        0.53      0.47      0.50      4447\n",
      "       crime        0.00      0.00      0.00       315\n",
      " documentary        0.60      0.89      0.72      7887\n",
      "       drama        0.46      0.84      0.59      8167\n",
      "      family        0.67      0.01      0.02       475\n",
      "     fantasy        0.00      0.00      0.00       179\n",
      "   game-show        0.97      0.32      0.49       111\n",
      "     history        0.00      0.00      0.00       150\n",
      "      horror        0.73      0.39      0.51      1308\n",
      "       music        0.87      0.14      0.24       433\n",
      "     musical        0.00      0.00      0.00       168\n",
      "     mystery        0.00      0.00      0.00       202\n",
      "        news        0.00      0.00      0.00       110\n",
      "  reality-tv        1.00      0.00      0.00       561\n",
      "     romance        0.00      0.00      0.00       416\n",
      "      sci-fi        0.79      0.03      0.05       398\n",
      "       short        0.63      0.15      0.24      3034\n",
      "       sport        1.00      0.02      0.04       257\n",
      "   talk-show        1.00      0.01      0.02       237\n",
      "    thriller        0.59      0.02      0.04       931\n",
      "         war        0.00      0.00      0.00        78\n",
      "     western        0.95      0.52      0.67       588\n",
      "\n",
      "     accuracy                           0.54     32529\n",
      "    macro avg       0.48      0.15      0.16     32529\n",
      " weighted avg       0.56      0.54      0.46     32529\n",
      "\n"
     ]
    },
    {
     "name": "stderr",
     "output_type": "stream",
     "text": [
      "C:\\Users\\Nisarg Shah\\anaconda3\\Lib\\site-packages\\sklearn\\metrics\\_classification.py:1469: UndefinedMetricWarning:\n",
      "\n",
      "Precision and F-score are ill-defined and being set to 0.0 in labels with no predicted samples. Use `zero_division` parameter to control this behavior.\n",
      "\n",
      "C:\\Users\\Nisarg Shah\\anaconda3\\Lib\\site-packages\\sklearn\\metrics\\_classification.py:1469: UndefinedMetricWarning:\n",
      "\n",
      "Precision and F-score are ill-defined and being set to 0.0 in labels with no predicted samples. Use `zero_division` parameter to control this behavior.\n",
      "\n"
     ]
    }
   ],
   "source": [
    "print(classification_report(y_test,predictions))"
   ]
  },
  {
   "cell_type": "code",
   "execution_count": 42,
   "id": "d58ea691",
   "metadata": {},
   "outputs": [],
   "source": [
    "from sklearn.metrics import accuracy_score"
   ]
  },
  {
   "cell_type": "code",
   "execution_count": 43,
   "id": "0ff9686f",
   "metadata": {},
   "outputs": [
    {
     "name": "stdout",
     "output_type": "stream",
     "text": [
      "Validation Accuracy: 0.5361677272587537\n"
     ]
    }
   ],
   "source": [
    "y_pred_val = svc.predict(X_test_tfidf)\n",
    "valAccuracy = accuracy_score(y_test, y_pred_val)\n",
    "print(\"Validation Accuracy:\", valAccuracy)"
   ]
  },
  {
   "cell_type": "code",
   "execution_count": null,
   "id": "b9ba1828",
   "metadata": {},
   "outputs": [],
   "source": []
  }
 ],
 "metadata": {
  "kernelspec": {
   "display_name": "Python 3 (ipykernel)",
   "language": "python",
   "name": "python3"
  },
  "language_info": {
   "codemirror_mode": {
    "name": "ipython",
    "version": 3
   },
   "file_extension": ".py",
   "mimetype": "text/x-python",
   "name": "python",
   "nbconvert_exporter": "python",
   "pygments_lexer": "ipython3",
   "version": "3.11.4"
  }
 },
 "nbformat": 4,
 "nbformat_minor": 5
}
